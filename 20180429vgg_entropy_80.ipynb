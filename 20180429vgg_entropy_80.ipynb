{
 "cells": [
  {
   "cell_type": "code",
   "execution_count": 36,
   "metadata": {
    "collapsed": true
   },
   "outputs": [],
   "source": [
    "import numpy as np\n",
    "import pandas as pd \n",
    "import random, os, time, cv2\n",
    "import tensorflow as tf\n",
    "import sys\n",
    "from sklearn.preprocessing import OneHotEncoder\n",
    "from sklearn.preprocessing import MinMaxScaler\n",
    "from sklearn.model_selection import train_test_split\n",
    "from sklearn.metrics import roc_auc_score\n",
    "from tensorflow.python.client import device_lib\n",
    "from datetime import datetime\n",
    "import matplotlib\n",
    "matplotlib.use('macosx')\n",
    "import matplotlib.pyplot as plt\n",
    "# import ipywidgets as ipywidgets\n",
    "# from ipywidgets import interact\n",
    "from matplotlib import cm"
   ]
  },
  {
   "cell_type": "code",
   "execution_count": 37,
   "metadata": {},
   "outputs": [
    {
     "name": "stdout",
     "output_type": "stream",
     "text": [
      "VGGout_C1-3-6sNP-N.txt\n",
      "VGGout_C1-24hNP-N.txt\n",
      "VGGout_C1-4hNP-N.txt\n",
      "VGGout_C1-30mNP-N.txt\n",
      "VGGout_C1-8hNP-N.txt\n",
      "VGGout_C1-2hNP-N.txt\n",
      "VGGout_C1-6mNP-N.txt\n",
      "VGGout_C1-48hNP-N.txt\n",
      "VGGout_C1-18hNP-N.txt\n",
      "VGGout_C1-1hNP-N.txt\n"
     ]
    }
   ],
   "source": [
    "data_dir = '/Users/jifeihe/Desktop/Capstone/vgg_1000/VGGout_Known_NP_N'\n",
    "for file in os.listdir(data_dir):\n",
    "    if file.startswith(\"VGGout_C1\"): \n",
    "        print file"
   ]
  },
  {
   "cell_type": "code",
   "execution_count": 38,
   "metadata": {},
   "outputs": [
    {
     "ename": "IOError",
     "evalue": "[Errno 2] No such file or directory: 'VGGout_T2-8hNP-N.txt'",
     "output_type": "error",
     "traceback": [
      "\u001b[0;31m---------------------------------------------------------------------------\u001b[0m",
      "\u001b[0;31mIOError\u001b[0m                                   Traceback (most recent call last)",
      "\u001b[0;32m<ipython-input-38-81617f705388>\u001b[0m in \u001b[0;36m<module>\u001b[0;34m()\u001b[0m\n\u001b[1;32m      5\u001b[0m         \u001b[0mtemp\u001b[0m\u001b[0;34m=\u001b[0m\u001b[0mtemp\u001b[0m\u001b[0;34m+\u001b[0m\u001b[0mnp\u001b[0m\u001b[0;34m.\u001b[0m\u001b[0mloadtxt\u001b[0m\u001b[0;34m(\u001b[0m\u001b[0mfile\u001b[0m\u001b[0;34m)\u001b[0m\u001b[0;34m\u001b[0m\u001b[0m\n\u001b[1;32m      6\u001b[0m     \u001b[0;32mreturn\u001b[0m \u001b[0mnp\u001b[0m\u001b[0;34m.\u001b[0m\u001b[0marray\u001b[0m\u001b[0;34m(\u001b[0m\u001b[0mtemp\u001b[0m\u001b[0;34m)\u001b[0m\u001b[0;34m\u001b[0m\u001b[0m\n\u001b[0;32m----> 7\u001b[0;31m \u001b[0;32mprint\u001b[0m \u001b[0mload_data\u001b[0m\u001b[0;34m(\u001b[0m\u001b[0;34m)\u001b[0m\u001b[0;34m\u001b[0m\u001b[0m\n\u001b[0m",
      "\u001b[0;32m<ipython-input-38-81617f705388>\u001b[0m in \u001b[0;36mload_data\u001b[0;34m()\u001b[0m\n\u001b[1;32m      3\u001b[0m     \u001b[0mtemp\u001b[0m\u001b[0;34m=\u001b[0m\u001b[0mnp\u001b[0m\u001b[0;34m.\u001b[0m\u001b[0mzeros\u001b[0m\u001b[0;34m(\u001b[0m\u001b[0;34m(\u001b[0m\u001b[0;36m299\u001b[0m\u001b[0;34m,\u001b[0m\u001b[0;36m1000\u001b[0m\u001b[0;34m)\u001b[0m\u001b[0;34m)\u001b[0m\u001b[0;34m\u001b[0m\u001b[0m\n\u001b[1;32m      4\u001b[0m     \u001b[0;32mfor\u001b[0m \u001b[0mfile\u001b[0m \u001b[0;32min\u001b[0m \u001b[0mos\u001b[0m\u001b[0;34m.\u001b[0m\u001b[0mlistdir\u001b[0m\u001b[0;34m(\u001b[0m\u001b[0mdata_dir\u001b[0m\u001b[0;34m)\u001b[0m\u001b[0;34m:\u001b[0m\u001b[0;34m\u001b[0m\u001b[0m\n\u001b[0;32m----> 5\u001b[0;31m         \u001b[0mtemp\u001b[0m\u001b[0;34m=\u001b[0m\u001b[0mtemp\u001b[0m\u001b[0;34m+\u001b[0m\u001b[0mnp\u001b[0m\u001b[0;34m.\u001b[0m\u001b[0mloadtxt\u001b[0m\u001b[0;34m(\u001b[0m\u001b[0mfile\u001b[0m\u001b[0;34m)\u001b[0m\u001b[0;34m\u001b[0m\u001b[0m\n\u001b[0m\u001b[1;32m      6\u001b[0m     \u001b[0;32mreturn\u001b[0m \u001b[0mnp\u001b[0m\u001b[0;34m.\u001b[0m\u001b[0marray\u001b[0m\u001b[0;34m(\u001b[0m\u001b[0mtemp\u001b[0m\u001b[0;34m)\u001b[0m\u001b[0;34m\u001b[0m\u001b[0m\n\u001b[1;32m      7\u001b[0m \u001b[0;32mprint\u001b[0m \u001b[0mload_data\u001b[0m\u001b[0;34m(\u001b[0m\u001b[0;34m)\u001b[0m\u001b[0;34m\u001b[0m\u001b[0m\n",
      "\u001b[0;32m/Users/jifeihe/anaconda/lib/python2.7/site-packages/numpy/lib/npyio.pyc\u001b[0m in \u001b[0;36mloadtxt\u001b[0;34m(fname, dtype, comments, delimiter, converters, skiprows, usecols, unpack, ndmin)\u001b[0m\n\u001b[1;32m    894\u001b[0m                 \u001b[0mfh\u001b[0m \u001b[0;34m=\u001b[0m \u001b[0miter\u001b[0m\u001b[0;34m(\u001b[0m\u001b[0mbz2\u001b[0m\u001b[0;34m.\u001b[0m\u001b[0mBZ2File\u001b[0m\u001b[0;34m(\u001b[0m\u001b[0mfname\u001b[0m\u001b[0;34m)\u001b[0m\u001b[0;34m)\u001b[0m\u001b[0;34m\u001b[0m\u001b[0m\n\u001b[1;32m    895\u001b[0m             \u001b[0;32melif\u001b[0m \u001b[0msys\u001b[0m\u001b[0;34m.\u001b[0m\u001b[0mversion_info\u001b[0m\u001b[0;34m[\u001b[0m\u001b[0;36m0\u001b[0m\u001b[0;34m]\u001b[0m \u001b[0;34m==\u001b[0m \u001b[0;36m2\u001b[0m\u001b[0;34m:\u001b[0m\u001b[0;34m\u001b[0m\u001b[0m\n\u001b[0;32m--> 896\u001b[0;31m                 \u001b[0mfh\u001b[0m \u001b[0;34m=\u001b[0m \u001b[0miter\u001b[0m\u001b[0;34m(\u001b[0m\u001b[0mopen\u001b[0m\u001b[0;34m(\u001b[0m\u001b[0mfname\u001b[0m\u001b[0;34m,\u001b[0m \u001b[0;34m'U'\u001b[0m\u001b[0;34m)\u001b[0m\u001b[0;34m)\u001b[0m\u001b[0;34m\u001b[0m\u001b[0m\n\u001b[0m\u001b[1;32m    897\u001b[0m             \u001b[0;32melse\u001b[0m\u001b[0;34m:\u001b[0m\u001b[0;34m\u001b[0m\u001b[0m\n\u001b[1;32m    898\u001b[0m                 \u001b[0mfh\u001b[0m \u001b[0;34m=\u001b[0m \u001b[0miter\u001b[0m\u001b[0;34m(\u001b[0m\u001b[0mopen\u001b[0m\u001b[0;34m(\u001b[0m\u001b[0mfname\u001b[0m\u001b[0;34m)\u001b[0m\u001b[0;34m)\u001b[0m\u001b[0;34m\u001b[0m\u001b[0m\n",
      "\u001b[0;31mIOError\u001b[0m: [Errno 2] No such file or directory: 'VGGout_T2-8hNP-N.txt'"
     ]
    }
   ],
   "source": [
    "data_dir = '/Users/jifeihe/Desktop/Capstone/vgg_1000/VGGout_Known_NP_N/'\n",
    "def load_data():\n",
    "    temp=np.zeros((299,1000))\n",
    "    for file in os.listdir(data_dir):\n",
    "        temp=temp+np.loadtxt(file)\n",
    "    return np.array(temp)\n",
    "print load_data()"
   ]
  },
  {
   "cell_type": "code",
   "execution_count": 14,
   "metadata": {},
   "outputs": [],
   "source": [
    "temp=np.loadtxt('/Users/jifeihe/Desktop/Capstone/vgg_1000/VGGout_Known_NP_N/VGGout_T2-8hNP-N.txt')"
   ]
  },
  {
   "cell_type": "code",
   "execution_count": 32,
   "metadata": {},
   "outputs": [
    {
     "name": "stdout",
     "output_type": "stream",
     "text": [
      "VGGout_T2-8hNP-N.txt\n",
      "VGGout_T3-1hNP-N.txt\n",
      "VGGout_C2-48hNP-N.txt\n",
      "VGGout_C3-8hNP-N.txt\n",
      "VGGout_T3-30mNP-N.txt\n",
      "VGGout_C1-3-6sNP-N.txt\n",
      "VGGout_C2-1hNP-N.txt\n",
      "VGGout_C4-4hNP-N.txt\n",
      "VGGout_T2-3-6sNP-N.txt\n",
      "VGGout_C4-24hNP-N.txt\n",
      "VGGout_C3-2hNP-N.txt\n",
      "VGGout_T1-18hNP-N.txt\n",
      "VGGout_T2-2hNP-N.txt\n",
      "VGGout_T4-18hNP-N.txt\n",
      "VGGout_T3-3-6sNP-N.txt\n",
      "VGGout_C1-24hNP-N.txt\n",
      ".DS_Store\n",
      "VGGout_T4-3-6sNP-N.txt\n",
      "VGGout_C2-30mNP-N.txt\n",
      "VGGout_T3-48hNP-N.txt\n",
      "VGGout_C1-4hNP-N.txt\n",
      "VGGout_C3-6mNP-N.txt\n",
      "VGGout_T2-6mNP-N.txt\n",
      "VGGout_C4-6mNP-N.txt\n",
      "VGGout_C1-30mNP-N.txt\n",
      "VGGout_T1-1hNP-N.txt\n",
      "VGGout_C1-8hNP-N.txt\n",
      "VGGout_C4-48hNP-N.txt\n",
      "VGGout_C3-18hNP-N.txt\n",
      "VGGout_C1-2hNP-N.txt\n",
      "VGGout_C2-24hNP-N.txt\n",
      "VGGout_T2-18hNP-N.txt\n",
      "VGGout_T3-24hNP-N.txt\n",
      "VGGout_C4-2hNP-N.txt\n",
      "VGGout_C1-6mNP-N.txt\n",
      "VGGout_C3-4hNP-N.txt\n",
      "VGGout_T2-4hNP-N.txt\n",
      "VGGout_C4-8hNP-N.txt\n",
      "VGGout_C1-48hNP-N.txt\n",
      "VGGout_T4-1hNP-N.txt\n",
      "VGGout_C4-30mNP-N.txt\n",
      "VGGout_T2-48hNP-N.txt\n",
      "VGGout_C3-30mNP-N.txt\n",
      "VGGout_T1-4hNP-N.txt\n",
      "VGGout_T3-6mNP-N.txt\n",
      "VGGout_T4-24hNP-N.txt\n",
      "VGGout_C2-6mNP-N.txt\n",
      "VGGout_C1-18hNP-N.txt\n",
      "VGGout_C2-8hNP-N.txt\n",
      "VGGout_C3-1hNP-N.txt\n",
      "VGGout_T3-8hNP-N.txt\n",
      "VGGout_T2-1hNP-N.txt\n",
      "VGGout_C4-18hNP-N.txt\n",
      "VGGout_T1-24hNP-N.txt\n",
      "VGGout_T4-4hNP-N.txt\n",
      "VGGout_T3-2hNP-N.txt\n",
      "VGGout_C2-2hNP-N.txt\n",
      "VGGout_T2-30mNP-N.txt\n",
      "VGGout_C3-48hNP-N.txt\n",
      "VGGout_T1-3-6sNP-N.txt\n",
      "VGGout_T1-30mNP-N.txt\n",
      "VGGout_T4-48hNP-N.txt\n",
      "VGGout_C2-3-6sNP-N.txt\n",
      "VGGout_T4-2hNP-N.txt\n",
      "VGGout_T1-6mNP-N.txt\n",
      "VGGout_T3-4hNP-N.txt\n",
      "VGGout_T2-24hNP-N.txt\n",
      "VGGout_T3-18hNP-N.txt\n",
      "VGGout_C2-4hNP-N.txt\n",
      "VGGout_T4-8hNP-N.txt\n",
      "VGGout_C4-1hNP-N.txt\n",
      "VGGout_C3-24hNP-N.txt\n",
      "VGGout_C3-3-6sNP-N.txt\n",
      "VGGout_C4-3-6sNP-N.txt\n",
      "VGGout_C2-18hNP-N.txt\n",
      "VGGout_T4-6mNP-N.txt\n",
      "VGGout_C1-1hNP-N.txt\n",
      "VGGout_T1-8hNP-N.txt\n",
      "VGGout_T1-48hNP-N.txt\n",
      "VGGout_T4-30mNP-N.txt\n",
      "VGGout_T1-2hNP-N.txt\n"
     ]
    },
    {
     "data": {
      "text/plain": [
       "81"
      ]
     },
     "execution_count": 32,
     "metadata": {},
     "output_type": "execute_result"
    }
   ],
   "source": [
    "data_dir = '/Users/jifeihe/Desktop/Capstone/vgg_1000/VGGout_Known_NP_N/'\n",
    "temp=np.zeros((299,1000))\n",
    "\n",
    "for file in os.listdir(data_dir):\n",
    "    print file\n",
    "len(os.listdir(data_dir))"
   ]
  },
  {
   "cell_type": "code",
   "execution_count": 27,
   "metadata": {},
   "outputs": [
    {
     "ename": "TypeError",
     "evalue": "coercing to Unicode: need string or buffer, list found",
     "output_type": "error",
     "traceback": [
      "\u001b[0;31m---------------------------------------------------------------------------\u001b[0m",
      "\u001b[0;31mTypeError\u001b[0m                                 Traceback (most recent call last)",
      "\u001b[0;32m<ipython-input-27-1132fdf68fec>\u001b[0m in \u001b[0;36m<module>\u001b[0;34m()\u001b[0m\n\u001b[1;32m      1\u001b[0m \u001b[0mlists\u001b[0m \u001b[0;34m=\u001b[0m \u001b[0mos\u001b[0m\u001b[0;34m.\u001b[0m\u001b[0mlistdir\u001b[0m\u001b[0;34m(\u001b[0m\u001b[0;34m'/Users/jifeihe/Desktop/Capstone/Data_Known_NP_Neg/'\u001b[0m\u001b[0;34m)\u001b[0m\u001b[0;34m\u001b[0m\u001b[0m\n\u001b[1;32m      2\u001b[0m \u001b[0mlen\u001b[0m\u001b[0;34m(\u001b[0m\u001b[0mos\u001b[0m\u001b[0;34m.\u001b[0m\u001b[0mlistdir\u001b[0m\u001b[0;34m(\u001b[0m\u001b[0mdata_dir\u001b[0m\u001b[0;34m)\u001b[0m\u001b[0;34m)\u001b[0m\u001b[0;34m\u001b[0m\u001b[0m\n\u001b[0;32m----> 3\u001b[0;31m \u001b[0;32mfor\u001b[0m \u001b[0mfile\u001b[0m \u001b[0;32min\u001b[0m \u001b[0mos\u001b[0m\u001b[0;34m.\u001b[0m\u001b[0mlistdir\u001b[0m\u001b[0;34m(\u001b[0m\u001b[0mlists\u001b[0m\u001b[0;34m)\u001b[0m\u001b[0;34m:\u001b[0m\u001b[0;34m\u001b[0m\u001b[0m\n\u001b[0m\u001b[1;32m      4\u001b[0m     \u001b[0;32mprint\u001b[0m \u001b[0mfile\u001b[0m\u001b[0;34m\u001b[0m\u001b[0m\n",
      "\u001b[0;31mTypeError\u001b[0m: coercing to Unicode: need string or buffer, list found"
     ]
    }
   ],
   "source": [
    "lists = os.listdir('/Users/jifeihe/Desktop/Capstone/Data_Known_NP_Neg/')\n",
    "len(os.listdir(data_dir))\n",
    "for file in os.listdir(lists):\n",
    "    print file"
   ]
  },
  {
   "cell_type": "code",
   "execution_count": 39,
   "metadata": {
    "collapsed": true
   },
   "outputs": [],
   "source": [
    "def get_entropy(img_sum):\n",
    "    img_sum = load_data()/80\n",
    "    ent_arr = np.array([-sum(pk*np.log(pk) for pk in row if pk!=0) for row in img_sum])\n",
    "    return ent_arr"
   ]
  },
  {
   "cell_type": "code",
   "execution_count": 40,
   "metadata": {},
   "outputs": [
    {
     "ename": "ValueError",
     "evalue": "could not convert string to float: ,0",
     "output_type": "error",
     "traceback": [
      "\u001b[0;31m---------------------------------------------------------------------------\u001b[0m",
      "\u001b[0;31mValueError\u001b[0m                                Traceback (most recent call last)",
      "\u001b[0;32m<ipython-input-40-acacdb914e0b>\u001b[0m in \u001b[0;36m<module>\u001b[0;34m()\u001b[0m\n\u001b[0;32m----> 1\u001b[0;31m \u001b[0ment_arr\u001b[0m\u001b[0;34m=\u001b[0m\u001b[0mget_entropy\u001b[0m\u001b[0;34m(\u001b[0m\u001b[0mload_data\u001b[0m\u001b[0;34m(\u001b[0m\u001b[0;34m)\u001b[0m\u001b[0;34m)\u001b[0m\u001b[0;34m\u001b[0m\u001b[0m\n\u001b[0m\u001b[1;32m      2\u001b[0m \u001b[0ment_arr\u001b[0m\u001b[0;34m\u001b[0m\u001b[0m\n",
      "\u001b[0;32m<ipython-input-29-292320b53739>\u001b[0m in \u001b[0;36mload_data\u001b[0;34m()\u001b[0m\n\u001b[1;32m      3\u001b[0m     \u001b[0mtemp\u001b[0m\u001b[0;34m=\u001b[0m\u001b[0mnp\u001b[0m\u001b[0;34m.\u001b[0m\u001b[0mzeros\u001b[0m\u001b[0;34m(\u001b[0m\u001b[0;34m(\u001b[0m\u001b[0;36m299\u001b[0m\u001b[0;34m,\u001b[0m\u001b[0;36m1000\u001b[0m\u001b[0;34m)\u001b[0m\u001b[0;34m)\u001b[0m\u001b[0;34m\u001b[0m\u001b[0m\n\u001b[1;32m      4\u001b[0m     \u001b[0;32mfor\u001b[0m \u001b[0mfile\u001b[0m \u001b[0;32min\u001b[0m \u001b[0mos\u001b[0m\u001b[0;34m.\u001b[0m\u001b[0mlistdir\u001b[0m\u001b[0;34m(\u001b[0m\u001b[0mdata_dir\u001b[0m\u001b[0;34m)\u001b[0m\u001b[0;34m:\u001b[0m\u001b[0;34m\u001b[0m\u001b[0m\n\u001b[0;32m----> 5\u001b[0;31m         \u001b[0mtemp\u001b[0m\u001b[0;34m=\u001b[0m\u001b[0mtemp\u001b[0m\u001b[0;34m+\u001b[0m\u001b[0mnp\u001b[0m\u001b[0;34m.\u001b[0m\u001b[0mloadtxt\u001b[0m\u001b[0;34m(\u001b[0m\u001b[0mfile\u001b[0m\u001b[0;34m)\u001b[0m\u001b[0;34m\u001b[0m\u001b[0m\n\u001b[0m\u001b[1;32m      6\u001b[0m     \u001b[0;32mreturn\u001b[0m \u001b[0mnp\u001b[0m\u001b[0;34m.\u001b[0m\u001b[0marray\u001b[0m\u001b[0;34m(\u001b[0m\u001b[0mtemp\u001b[0m\u001b[0;34m)\u001b[0m\u001b[0;34m\u001b[0m\u001b[0m\n\u001b[1;32m      7\u001b[0m \u001b[0;32mprint\u001b[0m \u001b[0mload_data\u001b[0m\u001b[0;34m(\u001b[0m\u001b[0;34m)\u001b[0m\u001b[0;34m\u001b[0m\u001b[0m\n",
      "\u001b[0;32m/Users/jifeihe/anaconda/lib/python2.7/site-packages/numpy/lib/npyio.pyc\u001b[0m in \u001b[0;36mloadtxt\u001b[0;34m(fname, dtype, comments, delimiter, converters, skiprows, usecols, unpack, ndmin)\u001b[0m\n\u001b[1;32m   1022\u001b[0m \u001b[0;34m\u001b[0m\u001b[0m\n\u001b[1;32m   1023\u001b[0m             \u001b[0;31m# Convert each value according to its column and store\u001b[0m\u001b[0;34m\u001b[0m\u001b[0;34m\u001b[0m\u001b[0m\n\u001b[0;32m-> 1024\u001b[0;31m             \u001b[0mitems\u001b[0m \u001b[0;34m=\u001b[0m \u001b[0;34m[\u001b[0m\u001b[0mconv\u001b[0m\u001b[0;34m(\u001b[0m\u001b[0mval\u001b[0m\u001b[0;34m)\u001b[0m \u001b[0;32mfor\u001b[0m \u001b[0;34m(\u001b[0m\u001b[0mconv\u001b[0m\u001b[0;34m,\u001b[0m \u001b[0mval\u001b[0m\u001b[0;34m)\u001b[0m \u001b[0;32min\u001b[0m \u001b[0mzip\u001b[0m\u001b[0;34m(\u001b[0m\u001b[0mconverters\u001b[0m\u001b[0;34m,\u001b[0m \u001b[0mvals\u001b[0m\u001b[0;34m)\u001b[0m\u001b[0;34m]\u001b[0m\u001b[0;34m\u001b[0m\u001b[0m\n\u001b[0m\u001b[1;32m   1025\u001b[0m             \u001b[0;31m# Then pack it according to the dtype's nesting\u001b[0m\u001b[0;34m\u001b[0m\u001b[0;34m\u001b[0m\u001b[0m\n\u001b[1;32m   1026\u001b[0m             \u001b[0mitems\u001b[0m \u001b[0;34m=\u001b[0m \u001b[0mpack_items\u001b[0m\u001b[0;34m(\u001b[0m\u001b[0mitems\u001b[0m\u001b[0;34m,\u001b[0m \u001b[0mpacking\u001b[0m\u001b[0;34m)\u001b[0m\u001b[0;34m\u001b[0m\u001b[0m\n",
      "\u001b[0;32m/Users/jifeihe/anaconda/lib/python2.7/site-packages/numpy/lib/npyio.pyc\u001b[0m in \u001b[0;36mfloatconv\u001b[0;34m(x)\u001b[0m\n\u001b[1;32m    723\u001b[0m         \u001b[0;32mif\u001b[0m \u001b[0;34mb'0x'\u001b[0m \u001b[0;32min\u001b[0m \u001b[0mx\u001b[0m\u001b[0;34m:\u001b[0m\u001b[0;34m\u001b[0m\u001b[0m\n\u001b[1;32m    724\u001b[0m             \u001b[0;32mreturn\u001b[0m \u001b[0mfloat\u001b[0m\u001b[0;34m.\u001b[0m\u001b[0mfromhex\u001b[0m\u001b[0;34m(\u001b[0m\u001b[0masstr\u001b[0m\u001b[0;34m(\u001b[0m\u001b[0mx\u001b[0m\u001b[0;34m)\u001b[0m\u001b[0;34m)\u001b[0m\u001b[0;34m\u001b[0m\u001b[0m\n\u001b[0;32m--> 725\u001b[0;31m         \u001b[0;32mreturn\u001b[0m \u001b[0mfloat\u001b[0m\u001b[0;34m(\u001b[0m\u001b[0mx\u001b[0m\u001b[0;34m)\u001b[0m\u001b[0;34m\u001b[0m\u001b[0m\n\u001b[0m\u001b[1;32m    726\u001b[0m \u001b[0;34m\u001b[0m\u001b[0m\n\u001b[1;32m    727\u001b[0m     \u001b[0mtyp\u001b[0m \u001b[0;34m=\u001b[0m \u001b[0mdtype\u001b[0m\u001b[0;34m.\u001b[0m\u001b[0mtype\u001b[0m\u001b[0;34m\u001b[0m\u001b[0m\n",
      "\u001b[0;31mValueError\u001b[0m: could not convert string to float: ,0"
     ]
    }
   ],
   "source": [
    "ent_arr=get_entropy(load_data())\n",
    "ent_arr"
   ]
  },
  {
   "cell_type": "code",
   "execution_count": 33,
   "metadata": {
    "collapsed": true
   },
   "outputs": [],
   "source": [
    "df=pd.DataFrame(ent_arr)\n",
    "df.to_csv(\"/Users/jifeihe/Desktop/Capstone/vgg_1000/entr80.csv\")"
   ]
  },
  {
   "cell_type": "code",
   "execution_count": 36,
   "metadata": {
    "collapsed": true
   },
   "outputs": [],
   "source": [
    "ent_arr_sort=sort(ent_arr)"
   ]
  },
  {
   "cell_type": "code",
   "execution_count": 37,
   "metadata": {},
   "outputs": [
    {
     "data": {
      "text/plain": [
       "array([ 3.28452336,  3.34954615,  3.40529698,  3.41048872,  3.52585992,\n",
       "        3.54418488,  3.68299086,  3.69318161,  3.69607316,  3.71276022,\n",
       "        3.73490959,  3.73664448,  3.78975442,  3.79649718,  3.8067676 ,\n",
       "        3.82662841,  3.83435332,  3.84768318,  3.86576882,  3.87327821,\n",
       "        3.90576549,  3.94074954,  3.96538899,  3.97063595,  4.00971542,\n",
       "        4.02160428,  4.04442722,  4.07800829,  4.13834636,  4.14716631,\n",
       "        4.15664559,  4.21163717,  4.24525556,  4.2623894 ,  4.28480107,\n",
       "        4.29861372,  4.30193199,  4.30452484,  4.32274653,  4.34743921,\n",
       "        4.3497681 ,  4.35866637,  4.36622358,  4.39613548,  4.420789  ,\n",
       "        4.45288777,  4.47800586,  4.4829745 ,  4.48616554,  4.49563102,\n",
       "        4.49924157,  4.51125105,  4.52014617,  4.5353787 ,  4.54196007,\n",
       "        4.55589248,  4.56092291,  4.56303552,  4.56429244,  4.57529053,\n",
       "        4.57903882,  4.60698332,  4.61134442,  4.61514236,  4.61646991,\n",
       "        4.61985693,  4.62330258,  4.62368576,  4.62934435,  4.63043389,\n",
       "        4.63391614,  4.64616299,  4.66965916,  4.67000248,  4.68382472,\n",
       "        4.68911079,  4.69310532,  4.69894948,  4.70143674,  4.70616136,\n",
       "        4.71379225,  4.72903031,  4.74542214,  4.75300772,  4.78440928,\n",
       "        4.7850799 ,  4.78673181,  4.7901826 ,  4.79398159,  4.80125299,\n",
       "        4.80685704,  4.80727259,  4.80750806,  4.80754777,  4.82122082,\n",
       "        4.82744403,  4.83524114,  4.85022389,  4.85108858,  4.86024774,\n",
       "        4.86217177,  4.86229151,  4.8708419 ,  4.8809171 ,  4.88291436,\n",
       "        4.88360219,  4.8902583 ,  4.89180552,  4.89209124,  4.89437683,\n",
       "        4.89632493,  4.89792479,  4.90028196,  4.90491151,  4.90600319,\n",
       "        4.91456782,  4.92505128,  4.92551396,  4.92591201,  4.92726283,\n",
       "        4.92950708,  4.93107598,  4.93720802,  4.93798   ,  4.94230801,\n",
       "        4.94245929,  4.94897323,  4.95055615,  4.95098392,  4.95625564,\n",
       "        4.95743903,  4.95787156,  4.95839242,  4.95843953,  4.95940922,\n",
       "        4.97409167,  4.97517675,  4.97790451,  4.98332192,  4.98489024,\n",
       "        4.98937725,  4.99661774,  4.99936306,  5.00226851,  5.00774894,\n",
       "        5.00909787,  5.00981152,  5.01065081,  5.01086371,  5.01293309,\n",
       "        5.01539836,  5.01591268,  5.02014476,  5.02593412,  5.0337799 ,\n",
       "        5.03540382,  5.03668617,  5.03726276,  5.03976946,  5.03991986,\n",
       "        5.0403927 ,  5.04116574,  5.04193898,  5.04199794,  5.04597601,\n",
       "        5.04673883,  5.04723896,  5.05033683,  5.05371737,  5.05605166,\n",
       "        5.05613833,  5.05696986,  5.06268387,  5.06357386,  5.0654154 ,\n",
       "        5.06691881,  5.06750825,  5.06822271,  5.07174852,  5.07228931,\n",
       "        5.07303534,  5.07321214,  5.07485776,  5.07880044,  5.08080946,\n",
       "        5.08375485,  5.08451088,  5.08629807,  5.08694237,  5.08918891,\n",
       "        5.09071933,  5.09299617,  5.09321485,  5.09561951,  5.09994346,\n",
       "        5.10138298,  5.10196955,  5.10884754,  5.10902728,  5.11026569,\n",
       "        5.11124803,  5.11233136,  5.11293147,  5.1130924 ,  5.11616248,\n",
       "        5.11706812,  5.11879225,  5.12295452,  5.1303473 ,  5.13109815,\n",
       "        5.13204398,  5.13215119,  5.13276812,  5.13283095,  5.13913436,\n",
       "        5.13922597,  5.14195775,  5.14199471,  5.14479618,  5.14511726,\n",
       "        5.14515151,  5.14524767,  5.14777697,  5.14806898,  5.15375945,\n",
       "        5.1556366 ,  5.15638548,  5.15651067,  5.16295509,  5.16333019,\n",
       "        5.16399159,  5.16670353,  5.16907469,  5.17460116,  5.17767785,\n",
       "        5.18097793,  5.18610106,  5.18642669,  5.18769641,  5.18945629,\n",
       "        5.19310054,  5.19341823,  5.19432082,  5.19528187,  5.19542334,\n",
       "        5.19727756,  5.20048894,  5.20092534,  5.20303265,  5.20443918,\n",
       "        5.20515106,  5.20610159,  5.20789344,  5.20916063,  5.21049226,\n",
       "        5.2144299 ,  5.21463471,  5.21522721,  5.21662262,  5.21692951,\n",
       "        5.22114693,  5.22386417,  5.22543918,  5.2256565 ,  5.22695129,\n",
       "        5.22778254,  5.23072063,  5.2310655 ,  5.232884  ,  5.23454468,\n",
       "        5.23850594,  5.24144808,  5.24567544,  5.24789494,  5.25099629,\n",
       "        5.25120142,  5.25190492,  5.25386062,  5.25534691,  5.2590275 ,\n",
       "        5.26447588,  5.26694138,  5.26717151,  5.26958143,  5.26978499,\n",
       "        5.27369129,  5.27694203,  5.2792027 ,  5.29220697,  5.29717465,\n",
       "        5.29765904,  5.30463262,  5.30582203,  5.30785076,  5.31032243,\n",
       "        5.32455538,  5.32666   ,  5.33107966,  5.34754839])"
      ]
     },
     "execution_count": 37,
     "metadata": {},
     "output_type": "execute_result"
    }
   ],
   "source": [
    "ent_arr"
   ]
  },
  {
   "cell_type": "code",
   "execution_count": null,
   "metadata": {
    "collapsed": true
   },
   "outputs": [],
   "source": [
    "numpy.argsort(myList)"
   ]
  },
  {
   "cell_type": "code",
   "execution_count": null,
   "metadata": {
    "collapsed": true
   },
   "outputs": [],
   "source": [
    "dir = '...'\n",
    "tmp = []\n",
    "with open(os.path.join(dir, 'img.txt'), 'r') as file_read:\n",
    "    for line in file_read:\n",
    "        tmp.append(line)"
   ]
  }
 ],
 "metadata": {
  "kernelspec": {
   "display_name": "Python 2",
   "language": "python",
   "name": "python2"
  },
  "language_info": {
   "codemirror_mode": {
    "name": "ipython",
    "version": 2
   },
   "file_extension": ".py",
   "mimetype": "text/x-python",
   "name": "python",
   "nbconvert_exporter": "python",
   "pygments_lexer": "ipython2",
   "version": "2.7.13"
  }
 },
 "nbformat": 4,
 "nbformat_minor": 2
}
